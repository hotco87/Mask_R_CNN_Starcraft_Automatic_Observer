{
 "cells": [
  {
   "cell_type": "code",
   "execution_count": 1,
   "metadata": {},
   "outputs": [],
   "source": [
    "import os\n",
    "from glob import glob\n",
    "import multiprocessing as mp\n",
    "\n",
    "import numpy as np\n",
    "import pandas as pd\n",
    "import platform\n",
    "from tqdm import tqdm\n",
    "\n",
    "from matplotlib import pyplot as plt\n",
    "from matplotlib import patches as patches\n",
    "import matplotlib.widgets\n",
    "from matplotlib.animation import FuncAnimation, PillowWriter\n",
    "import mpl_toolkits.axes_grid1\n",
    "from mpl_toolkits.axes_grid1 import Size\n",
    "import shutil\n",
    "\n",
    "from starcraft.Colors import *\n",
    "from starcraft.UnitType import *\n",
    "\n",
    "pd.options.mode.chained_assignment = None  # default='warn'"
   ]
  },
  {
   "cell_type": "code",
   "execution_count": 2,
   "metadata": {},
   "outputs": [],
   "source": [
    "data_dir = '../data/'\n",
    "# data_dir = 'C:/TM/starcraft/bwapi-data/write/'\n",
    "data_dir = '../data/'"
   ]
  },
  {
   "cell_type": "code",
   "execution_count": 3,
   "metadata": {},
   "outputs": [],
   "source": [
    "SCREEN_WIDTH, SCREEN_HEIGHT = 640, 384\n",
    "TILE_SIZE = 32\n",
    "FPS = 24\n",
    "INTERVAL = 8\n",
    "\n",
    "# cpu_count = int(mp.cpu_count())\n",
    "# num_workers = int(cpu_count * 0.8)"
   ]
  },
  {
   "cell_type": "code",
   "execution_count": 4,
   "metadata": {},
   "outputs": [],
   "source": [
    "def preprocess_raw_data(dataframe):\n",
    "    dataframe['x_tile'] = dataframe['x'].apply(lambda x: x // TILE_SIZE)\n",
    "    dataframe['y_tile'] = dataframe['y'].apply(lambda x: x // TILE_SIZE)\n",
    "    dataframe['left_tile'] = dataframe['left'].apply(lambda x: x / TILE_SIZE)\n",
    "    dataframe['right_tile'] = dataframe['right'].apply(lambda x: x / TILE_SIZE)\n",
    "    dataframe['top_tile'] = dataframe['top'].apply(lambda x: x / TILE_SIZE)\n",
    "    dataframe['bottom_tile'] = dataframe['bottom'].apply(lambda x: x / TILE_SIZE)\n",
    "    \n",
    "    dataframe['left_tile'] = np.round(dataframe['left_tile'])\n",
    "    dataframe['right_tile'] = np.round(dataframe['right_tile'])\n",
    "    dataframe['top_tile'] = np.round(dataframe['top_tile'])\n",
    "    dataframe['bottom_tile'] = np.round(dataframe['bottom_tile'])\n",
    "    \n",
    "    dataframe['width_tile'] = dataframe['right_tile'] - dataframe['left_tile']\n",
    "    dataframe['height_tile'] = dataframe['bottom_tile'] - dataframe['top_tile']\n",
    "\n",
    "    ## race is Zerg when player is Neutral\n",
    "    dataframe.loc[dataframe['player'] == 'Neutral', 'race'] = 'None'\n",
    "    dataframe.loc[dataframe['player'] == 'Neutral', 'player_color'] = 'Cyan'\n",
    "    \n",
    "    return dataframe\n",
    "    # print('players: ', dataframe['player'].unique())\n",
    "    # print('player colors: ', dataframe['player_color'].unique())\n",
    "    # print('races: ', dataframe['race'].unique())\n",
    "    # dataframe.head()"
   ]
  },
  {
   "cell_type": "code",
   "execution_count": 5,
   "metadata": {},
   "outputs": [],
   "source": [
    "def preprocess_terrain_in_pixel(terrain_tile):\n",
    "    terrain = list()\n",
    "    for h in range(terrain_tile.shape[0]):\n",
    "        tmp_row = np.hstack([np.asarray([terrain_tile[h][w]] * TILE_SIZE) for w in range(terrain_tile.shape[1])])\n",
    "        tmp_row = np.vstack([tmp_row] * TILE_SIZE)\n",
    "        terrain.append(tmp_row)\n",
    "    terrain = np.concatenate(terrain)\n",
    "    return terrain"
   ]
  },
  {
   "cell_type": "code",
   "execution_count": 6,
   "metadata": {},
   "outputs": [],
   "source": [
    "def preprocess_vision_data(dataframe, terminal_frame):\n",
    "    ## terminal_frame까지 ffill로 보간\n",
    "    dataframe = dataframe.set_index('frame')\n",
    "    dataframe = dataframe.reindex(range(terminal_frame))\n",
    "    dataframe = dataframe.fillna(method='ffill')\n",
    "    dataframe = dataframe.reset_index()\n",
    "    return dataframe"
   ]
  },
  {
   "cell_type": "code",
   "execution_count": 7,
   "metadata": {},
   "outputs": [],
   "source": [
    "def load_data(replay_name):\n",
    "    df_raw = pd.read_csv(data_dir + replay_name + \".raw\", index_col=None)\n",
    "    df_raw = preprocess_raw_data(df_raw)\n",
    "    \n",
    "    # print('# of All data over time: ', len(df_raw))\n",
    "    players_in_frame = df_raw.loc[df_raw['player'] != 'Neutral'][['frame', 'player']].groupby(['frame', 'player'], as_index=False).agg('count')\n",
    "    players_in_frame = players_in_frame.groupby('frame', as_index=False).agg('count')\n",
    "\n",
    "    single_player_only = players_in_frame.loc[players_in_frame['player'] < 2]\n",
    "    terminal_frame = single_player_only['frame'].min()\n",
    "    if np.isnan(terminal_frame): terminal_frame = df_raw['frame'].max()\n",
    "    \n",
    "    df_vision = pd.read_csv(data_dir + replay_name + \".vision\", index_col=None)\n",
    "    df_vision = preprocess_vision_data(df_vision, terminal_frame)\n",
    "\n",
    "    terrain_tile = np.genfromtxt(data_dir + replay_name + \".terrain\", delimiter=',', dtype=int)\n",
    "    terrain_pixel = preprocess_terrain_in_pixel(terrain_tile)\n",
    "    # print('Terrain shape(TILE): ', terrain_tile.shape)\n",
    "    # print('Terrain shape(PIXEL): ', terrain_pixel.shape)\n",
    "\n",
    "    ## faster than list comprehension\n",
    "    # last_t_index = df.groupby('frame', as_index=False).size()['size'].cumsum()\n",
    "    # dataset = []\n",
    "    # last_check = 0\n",
    "    # for ind in last_t_index:\n",
    "    #     dataset.append(df.loc[last_check:ind-1])\n",
    "    #     last_check = ind\n",
    "    \n",
    "    return df_raw, terminal_frame, (terrain_pixel, terrain_tile), df_vision, "
   ]
  },
  {
   "cell_type": "code",
   "execution_count": 8,
   "metadata": {},
   "outputs": [],
   "source": [
    "def make_channels(dataframe):\n",
    "    channel = dataframe.pivot_table('name', 'y_tile', 'x_tile', aggfunc='count')\n",
    "    channel = channel.reindex(range(terrain_tile.shape[0]))\n",
    "    channel = channel.T.reindex(range(terrain_tile.shape[1]))\n",
    "    channel = channel.fillna(0).astype(int).T\n",
    "    channel = np.asarray(channel)\n",
    "    return channel"
   ]
  },
  {
   "cell_type": "code",
   "execution_count": 9,
   "metadata": {},
   "outputs": [],
   "source": [
    "def make_player_channels(dataframe):\n",
    "    if len(dataframe) == 0: return\n",
    "\n",
    "    dataframe['isWorker'] = dataframe['name'].apply(lambda x: UnitType(x).isWorker)\n",
    "    dataframe['isUnit'] = dataframe['name'].apply(lambda x: UnitType(x).isUnit)\n",
    "    dataframe['isGround'] = dataframe['name'].apply(lambda x: UnitType(x).isGround)\n",
    "    dataframe['isAir'] = dataframe['name'].apply(lambda x: UnitType(x).isAir)\n",
    "\n",
    "    dataframe['isBuilding'] = dataframe['name'].apply(lambda x: UnitType(x).isBuilding)\n",
    "    dataframe['isAddon'] = dataframe['name'].apply(lambda x: UnitType(x).isAddon)\n",
    "\n",
    "    dataframe['isSpell'] = dataframe['name'].apply(lambda x: UnitType(x).isSpell)\n",
    "    dataframe['isTrivial'] = dataframe['name'].apply(lambda x: UnitType(x).isTrivial)\n",
    "\n",
    "    # units = dataframe.loc[dataframe['isUnit']]\n",
    "    units_worker = dataframe.loc[dataframe['isWorker']]\n",
    "    units_ground = dataframe.loc[~dataframe['isTrivial']].loc[dataframe['isGround']]\n",
    "    units_air = dataframe.loc[dataframe['isAir']]\n",
    "    units_trivial = dataframe.loc[dataframe['isTrivial']]\n",
    "\n",
    "    buildings = dataframe.loc[dataframe['isBuilding']]\n",
    "    # addons = dataframe.loc[dataframe['isAddon']]\n",
    "\n",
    "    spells = dataframe.loc[dataframe['isSpell']]\n",
    "\n",
    "    channel_worker = make_channels(units_worker)\n",
    "    channel_ground = make_channels(units_ground)\n",
    "    channel_air = make_channels(units_air)\n",
    "    channel_trivial = make_channels(units_trivial)\n",
    "    channel_building = make_channels(buildings)\n",
    "    channel_spell = make_channels(spells)\n",
    "\n",
    "    return np.stack([channel_worker, channel_ground, channel_air, channel_trivial, channel_building, channel_spell])"
   ]
  },
  {
   "cell_type": "code",
   "execution_count": 10,
   "metadata": {},
   "outputs": [],
   "source": [
    "def make_resource_channels(dataframe):\n",
    "    if len(dataframe) == 0: return\n",
    "\n",
    "    dataframe['isResource'] = dataframe.apply(lambda row: UnitType(row['name']).isResource, axis=1)\n",
    "    resources = dataframe.loc[dataframe['isResource']]\n",
    "    channel_resource = make_channels(resources) # (128, 128)\n",
    "    return np.expand_dims(channel_resource, 0) # (1, 128, 128)"
   ]
  },
  {
   "cell_type": "code",
   "execution_count": 11,
   "metadata": {},
   "outputs": [],
   "source": [
    "def raw_dataframe_into_channels(dataframe, tile_size=32):\n",
    "    if len(dataframe) == 0: return\n",
    "    \n",
    "    players = list(dataframe['player'].unique())\n",
    "    players.remove('Neutral')\n",
    "    player1, player2 = players[0], players[1]\n",
    "    \n",
    "    player1_dataframe = dataframe.loc[dataframe['player'] == player1]\n",
    "    player2_dataframe = dataframe.loc[dataframe['player'] == player2]\n",
    "    neutral_dataframe = dataframe.loc[dataframe['player'] == 'Neutral']\n",
    "    \n",
    "    player1_channels = make_player_channels(player1_dataframe)\n",
    "    player2_channels = make_player_channels(player2_dataframe)\n",
    "    resource_channel = make_resource_channels(neutral_dataframe)\n",
    "    \n",
    "#     print('player 1: ', player1_channels.shape)\n",
    "#     print('player 2: ', player2_channels.shape)\n",
    "#     print('neutral(resource, terrain): ', neutral_channels.shape)\n",
    "#     print(player1_channels.shape, player2_channels.shape, neutral_channels.shape)\n",
    "    current_frame_channels = np.vstack([player1_channels, player2_channels, resource_channel])\n",
    "    return current_frame_channels"
   ]
  },
  {
   "cell_type": "code",
   "execution_count": 12,
   "metadata": {},
   "outputs": [],
   "source": [
    "def vision_dataframe_into_channel(dataframe, shape):\n",
    "    vision = dataframe.iloc[0]['state']\n",
    "    vision = np.array(list(vision)).astype(int)\n",
    "    vision = vision.reshape(shape) # (HEIGHT, WIDTH)\n",
    "    vision = np.expand_dims(vision, 0) # (1, HEIGHT, WIDTH)\n",
    "    return vision\n",
    "    # np.asarray(list(tb.iloc[t_frame * 24]['state'])).astype(int).reshape(terrain_tile.shape)    "
   ]
  },
  {
   "cell_type": "code",
   "execution_count": 13,
   "metadata": {},
   "outputs": [],
   "source": [
    "def plot_samples(frame):\n",
    "    ## player1 units, and buildings\n",
    "    fig = plt.figure(figsize=(24, 6), dpi=100)\n",
    "    fig.suptitle('Player 1')\n",
    "    nrows, ncols = 1, 4\n",
    "    ax1 = fig.add_subplot(nrows, ncols, 1)\n",
    "    ax1.imshow(result[frame, 0], 'binary')\n",
    "    ax1.set_title('ground')\n",
    "    ax2 = fig.add_subplot(nrows, ncols, 2)\n",
    "    ax2.imshow(result[frame, 1], 'binary')\n",
    "    ax2.set_title('air')\n",
    "    ax3 = fig.add_subplot(nrows, ncols, 3)\n",
    "    ax3.imshow(result[frame, 2], 'binary')\n",
    "    ax3.set_title('building')\n",
    "    ax4 = fig.add_subplot(nrows, ncols, 4)\n",
    "    ax4.imshow(result[frame, 3], 'binary')\n",
    "    ax4.set_title('spell')\n",
    "    plt.show()\n",
    "\n",
    "    ## player2 units, and buildings\n",
    "    fig = plt.figure(figsize=(24, 6), dpi=100)\n",
    "    fig.suptitle('Player 2')\n",
    "    nrows, ncols = 1, 4\n",
    "    ax1 = fig.add_subplot(nrows, ncols, 1)\n",
    "    ax1.imshow(result[frame, 4], 'binary')\n",
    "    ax1.set_title('ground')\n",
    "    ax2 = fig.add_subplot(nrows, ncols, 2)\n",
    "    ax2.imshow(result[frame, 5], 'binary')\n",
    "    ax2.set_title('air')\n",
    "    ax3 = fig.add_subplot(nrows, ncols, 3)\n",
    "    ax3.imshow(result[frame, 6], 'binary')\n",
    "    ax3.set_title('building')\n",
    "    ax4 = fig.add_subplot(nrows, ncols, 4)\n",
    "    ax4.imshow(result[frame, 7], 'binary')\n",
    "    ax4.set_title('spell')\n",
    "    plt.show()\n",
    "\n",
    "    ## resources, vision, and terrain\n",
    "    fig = plt.figure(figsize=(18, 6), dpi=100)\n",
    "    fig.suptitle('Neutral')\n",
    "    nrows, ncols = 1, 3\n",
    "    ax1 = fig.add_subplot(nrows, ncols, 1)\n",
    "    ax1.imshow(result[frame, 8], 'binary')\n",
    "    ax1.set_title('resource field')\n",
    "    ax2 = fig.add_subplot(nrows, ncols, 2)\n",
    "    ax2.imshow(result[frame, 9], 'binary')\n",
    "    ax2.set_title('vision')\n",
    "    ax3 = fig.add_subplot(nrows, ncols, 3)\n",
    "    ax3.imshow(result[frame, 10], 'binary')\n",
    "    ax3.set_title('terrain')\n",
    "    plt.show()"
   ]
  },
  {
   "cell_type": "code",
   "execution_count": 14,
   "metadata": {},
   "outputs": [],
   "source": [
    "def preprocess_viewport_data(rep_name):\n",
    "    ## viewport data missing frame 보간하여 저장\n",
    "    viewport_data = pd.read_csv(data_dir + '{}.vpd'.format(rep_name), index_col=None)\n",
    "\n",
    "    viewport_data = viewport_data.set_index('frame')\n",
    "    viewport_data = viewport_data.reindex(range(terminal_frame))\n",
    "    viewport_data = viewport_data.fillna(method='ffill')\n",
    "    viewport_data = viewport_data.reset_index()\n",
    "\n",
    "    viewport_data['vpx'] = viewport_data['vpx'].astype(int)\n",
    "    viewport_data['vpy'] = viewport_data['vpy'].astype(int)\n",
    "\n",
    "    viewport_data.to_csv(data_dir + '{}.vpd_full'.format(rep_name), index=None)"
   ]
  },
  {
   "cell_type": "code",
   "execution_count": 20,
   "metadata": {},
   "outputs": [
    {
     "data": {
      "text/plain": [
       "['1660.rep', '212.rep', '36.rep', '4037.rep', '438.rep', '522.rep']"
      ]
     },
     "execution_count": 20,
     "metadata": {},
     "output_type": "execute_result"
    }
   ],
   "source": [
    "rep_names = [os.path.splitext(os.path.basename(raw))[0] for raw in sorted(glob(data_dir + '*.raw'))]\n",
    "rep_names"
   ]
  },
  {
   "cell_type": "code",
   "execution_count": 17,
   "metadata": {},
   "outputs": [],
   "source": [
    "os.makedirs('../result/{}'.format('212.rep'), exist_ok=True)"
   ]
  },
  {
   "cell_type": "code",
   "execution_count": 22,
   "metadata": {},
   "outputs": [
    {
     "name": "stderr",
     "output_type": "stream",
     "text": [
      " 86%|███████████████████████████████████████████████████████████████████▍          | 3051/3531 [05:34<00:52,  9.12it/s]\n"
     ]
    },
    {
     "ename": "KeyboardInterrupt",
     "evalue": "",
     "output_type": "error",
     "traceback": [
      "\u001B[1;31m---------------------------------------------------------------------------\u001B[0m",
      "\u001B[1;31mKeyboardInterrupt\u001B[0m                         Traceback (most recent call last)",
      "\u001B[1;32m~\\AppData\\Local\\Temp/ipykernel_47072/987604073.py\u001B[0m in \u001B[0;36m<module>\u001B[1;34m\u001B[0m\n\u001B[0;32m     13\u001B[0m         \u001B[0mcurrent_raw_dataframe\u001B[0m \u001B[1;33m=\u001B[0m \u001B[0mraw_dataframe\u001B[0m\u001B[1;33m.\u001B[0m\u001B[0mloc\u001B[0m\u001B[1;33m[\u001B[0m\u001B[0mt\u001B[0m \u001B[1;33m==\u001B[0m \u001B[0mraw_dataframe\u001B[0m\u001B[1;33m[\u001B[0m\u001B[1;34m'frame'\u001B[0m\u001B[1;33m]\u001B[0m\u001B[1;33m]\u001B[0m\u001B[1;33m\u001B[0m\u001B[1;33m\u001B[0m\u001B[0m\n\u001B[0;32m     14\u001B[0m \u001B[1;33m\u001B[0m\u001B[0m\n\u001B[1;32m---> 15\u001B[1;33m         \u001B[0mcurrent_raw_data_channels\u001B[0m \u001B[1;33m=\u001B[0m \u001B[0mraw_dataframe_into_channels\u001B[0m\u001B[1;33m(\u001B[0m\u001B[0mcurrent_raw_dataframe\u001B[0m\u001B[1;33m)\u001B[0m \u001B[1;31m###\u001B[0m\u001B[1;33m\u001B[0m\u001B[1;33m\u001B[0m\u001B[0m\n\u001B[0m\u001B[0;32m     16\u001B[0m         \u001B[1;31m# TERRAIN\u001B[0m\u001B[1;33m\u001B[0m\u001B[1;33m\u001B[0m\u001B[0m\n\u001B[0;32m     17\u001B[0m         \u001B[0mcurrent_terrain_tile\u001B[0m \u001B[1;33m=\u001B[0m \u001B[0mnp\u001B[0m\u001B[1;33m.\u001B[0m\u001B[0mexpand_dims\u001B[0m\u001B[1;33m(\u001B[0m\u001B[0mterrain_tile\u001B[0m\u001B[1;33m,\u001B[0m \u001B[1;36m0\u001B[0m\u001B[1;33m)\u001B[0m\u001B[1;33m\u001B[0m\u001B[1;33m\u001B[0m\u001B[0m\n",
      "\u001B[1;32m~\\AppData\\Local\\Temp/ipykernel_47072/2786710582.py\u001B[0m in \u001B[0;36mraw_dataframe_into_channels\u001B[1;34m(dataframe, tile_size)\u001B[0m\n\u001B[0;32m     12\u001B[0m     \u001B[0mplayer1_channels\u001B[0m \u001B[1;33m=\u001B[0m \u001B[0mmake_player_channels\u001B[0m\u001B[1;33m(\u001B[0m\u001B[0mplayer1_dataframe\u001B[0m\u001B[1;33m)\u001B[0m\u001B[1;33m\u001B[0m\u001B[1;33m\u001B[0m\u001B[0m\n\u001B[0;32m     13\u001B[0m     \u001B[0mplayer2_channels\u001B[0m \u001B[1;33m=\u001B[0m \u001B[0mmake_player_channels\u001B[0m\u001B[1;33m(\u001B[0m\u001B[0mplayer2_dataframe\u001B[0m\u001B[1;33m)\u001B[0m\u001B[1;33m\u001B[0m\u001B[1;33m\u001B[0m\u001B[0m\n\u001B[1;32m---> 14\u001B[1;33m     \u001B[0mresource_channel\u001B[0m \u001B[1;33m=\u001B[0m \u001B[0mmake_resource_channels\u001B[0m\u001B[1;33m(\u001B[0m\u001B[0mneutral_dataframe\u001B[0m\u001B[1;33m)\u001B[0m\u001B[1;33m\u001B[0m\u001B[1;33m\u001B[0m\u001B[0m\n\u001B[0m\u001B[0;32m     15\u001B[0m \u001B[1;33m\u001B[0m\u001B[0m\n\u001B[0;32m     16\u001B[0m \u001B[1;31m#     print('player 1: ', player1_channels.shape)\u001B[0m\u001B[1;33m\u001B[0m\u001B[1;33m\u001B[0m\u001B[0m\n",
      "\u001B[1;32m~\\AppData\\Local\\Temp/ipykernel_47072/942386563.py\u001B[0m in \u001B[0;36mmake_resource_channels\u001B[1;34m(dataframe)\u001B[0m\n\u001B[0;32m      4\u001B[0m     \u001B[0mdataframe\u001B[0m\u001B[1;33m[\u001B[0m\u001B[1;34m'isResource'\u001B[0m\u001B[1;33m]\u001B[0m \u001B[1;33m=\u001B[0m \u001B[0mdataframe\u001B[0m\u001B[1;33m.\u001B[0m\u001B[0mapply\u001B[0m\u001B[1;33m(\u001B[0m\u001B[1;32mlambda\u001B[0m \u001B[0mrow\u001B[0m\u001B[1;33m:\u001B[0m \u001B[0mUnitType\u001B[0m\u001B[1;33m(\u001B[0m\u001B[0mrow\u001B[0m\u001B[1;33m[\u001B[0m\u001B[1;34m'name'\u001B[0m\u001B[1;33m]\u001B[0m\u001B[1;33m)\u001B[0m\u001B[1;33m.\u001B[0m\u001B[0misResource\u001B[0m\u001B[1;33m,\u001B[0m \u001B[0maxis\u001B[0m\u001B[1;33m=\u001B[0m\u001B[1;36m1\u001B[0m\u001B[1;33m)\u001B[0m\u001B[1;33m\u001B[0m\u001B[1;33m\u001B[0m\u001B[0m\n\u001B[0;32m      5\u001B[0m     \u001B[0mresources\u001B[0m \u001B[1;33m=\u001B[0m \u001B[0mdataframe\u001B[0m\u001B[1;33m.\u001B[0m\u001B[0mloc\u001B[0m\u001B[1;33m[\u001B[0m\u001B[0mdataframe\u001B[0m\u001B[1;33m[\u001B[0m\u001B[1;34m'isResource'\u001B[0m\u001B[1;33m]\u001B[0m\u001B[1;33m]\u001B[0m\u001B[1;33m\u001B[0m\u001B[1;33m\u001B[0m\u001B[0m\n\u001B[1;32m----> 6\u001B[1;33m     \u001B[0mchannel_resource\u001B[0m \u001B[1;33m=\u001B[0m \u001B[0mmake_channels\u001B[0m\u001B[1;33m(\u001B[0m\u001B[0mresources\u001B[0m\u001B[1;33m)\u001B[0m \u001B[1;31m# (128, 128)\u001B[0m\u001B[1;33m\u001B[0m\u001B[1;33m\u001B[0m\u001B[0m\n\u001B[0m\u001B[0;32m      7\u001B[0m     \u001B[1;32mreturn\u001B[0m \u001B[0mnp\u001B[0m\u001B[1;33m.\u001B[0m\u001B[0mexpand_dims\u001B[0m\u001B[1;33m(\u001B[0m\u001B[0mchannel_resource\u001B[0m\u001B[1;33m,\u001B[0m \u001B[1;36m0\u001B[0m\u001B[1;33m)\u001B[0m \u001B[1;31m# (1, 128, 128)\u001B[0m\u001B[1;33m\u001B[0m\u001B[1;33m\u001B[0m\u001B[0m\n",
      "\u001B[1;32m~\\AppData\\Local\\Temp/ipykernel_47072/192787962.py\u001B[0m in \u001B[0;36mmake_channels\u001B[1;34m(dataframe)\u001B[0m\n\u001B[0;32m      3\u001B[0m     \u001B[0mchannel\u001B[0m \u001B[1;33m=\u001B[0m \u001B[0mchannel\u001B[0m\u001B[1;33m.\u001B[0m\u001B[0mreindex\u001B[0m\u001B[1;33m(\u001B[0m\u001B[0mrange\u001B[0m\u001B[1;33m(\u001B[0m\u001B[0mterrain_tile\u001B[0m\u001B[1;33m.\u001B[0m\u001B[0mshape\u001B[0m\u001B[1;33m[\u001B[0m\u001B[1;36m0\u001B[0m\u001B[1;33m]\u001B[0m\u001B[1;33m)\u001B[0m\u001B[1;33m)\u001B[0m\u001B[1;33m\u001B[0m\u001B[1;33m\u001B[0m\u001B[0m\n\u001B[0;32m      4\u001B[0m     \u001B[0mchannel\u001B[0m \u001B[1;33m=\u001B[0m \u001B[0mchannel\u001B[0m\u001B[1;33m.\u001B[0m\u001B[0mT\u001B[0m\u001B[1;33m.\u001B[0m\u001B[0mreindex\u001B[0m\u001B[1;33m(\u001B[0m\u001B[0mrange\u001B[0m\u001B[1;33m(\u001B[0m\u001B[0mterrain_tile\u001B[0m\u001B[1;33m.\u001B[0m\u001B[0mshape\u001B[0m\u001B[1;33m[\u001B[0m\u001B[1;36m1\u001B[0m\u001B[1;33m]\u001B[0m\u001B[1;33m)\u001B[0m\u001B[1;33m)\u001B[0m\u001B[1;33m\u001B[0m\u001B[1;33m\u001B[0m\u001B[0m\n\u001B[1;32m----> 5\u001B[1;33m     \u001B[0mchannel\u001B[0m \u001B[1;33m=\u001B[0m \u001B[0mchannel\u001B[0m\u001B[1;33m.\u001B[0m\u001B[0mfillna\u001B[0m\u001B[1;33m(\u001B[0m\u001B[1;36m0\u001B[0m\u001B[1;33m)\u001B[0m\u001B[1;33m.\u001B[0m\u001B[0mastype\u001B[0m\u001B[1;33m(\u001B[0m\u001B[0mint\u001B[0m\u001B[1;33m)\u001B[0m\u001B[1;33m.\u001B[0m\u001B[0mT\u001B[0m\u001B[1;33m\u001B[0m\u001B[1;33m\u001B[0m\u001B[0m\n\u001B[0m\u001B[0;32m      6\u001B[0m     \u001B[0mchannel\u001B[0m \u001B[1;33m=\u001B[0m \u001B[0mnp\u001B[0m\u001B[1;33m.\u001B[0m\u001B[0masarray\u001B[0m\u001B[1;33m(\u001B[0m\u001B[0mchannel\u001B[0m\u001B[1;33m)\u001B[0m\u001B[1;33m\u001B[0m\u001B[1;33m\u001B[0m\u001B[0m\n\u001B[0;32m      7\u001B[0m     \u001B[1;32mreturn\u001B[0m \u001B[0mchannel\u001B[0m\u001B[1;33m\u001B[0m\u001B[1;33m\u001B[0m\u001B[0m\n",
      "\u001B[1;32m~\\.conda\\envs\\starcraft\\lib\\site-packages\\pandas\\util\\_decorators.py\u001B[0m in \u001B[0;36mwrapper\u001B[1;34m(*args, **kwargs)\u001B[0m\n\u001B[0;32m    309\u001B[0m                     \u001B[0mstacklevel\u001B[0m\u001B[1;33m=\u001B[0m\u001B[0mstacklevel\u001B[0m\u001B[1;33m,\u001B[0m\u001B[1;33m\u001B[0m\u001B[1;33m\u001B[0m\u001B[0m\n\u001B[0;32m    310\u001B[0m                 )\n\u001B[1;32m--> 311\u001B[1;33m             \u001B[1;32mreturn\u001B[0m \u001B[0mfunc\u001B[0m\u001B[1;33m(\u001B[0m\u001B[1;33m*\u001B[0m\u001B[0margs\u001B[0m\u001B[1;33m,\u001B[0m \u001B[1;33m**\u001B[0m\u001B[0mkwargs\u001B[0m\u001B[1;33m)\u001B[0m\u001B[1;33m\u001B[0m\u001B[1;33m\u001B[0m\u001B[0m\n\u001B[0m\u001B[0;32m    312\u001B[0m \u001B[1;33m\u001B[0m\u001B[0m\n\u001B[0;32m    313\u001B[0m         \u001B[1;32mreturn\u001B[0m \u001B[0mwrapper\u001B[0m\u001B[1;33m\u001B[0m\u001B[1;33m\u001B[0m\u001B[0m\n",
      "\u001B[1;32m~\\.conda\\envs\\starcraft\\lib\\site-packages\\pandas\\core\\frame.py\u001B[0m in \u001B[0;36mfillna\u001B[1;34m(self, value, method, axis, inplace, limit, downcast)\u001B[0m\n\u001B[0;32m   5174\u001B[0m         \u001B[0mdowncast\u001B[0m\u001B[1;33m=\u001B[0m\u001B[1;32mNone\u001B[0m\u001B[1;33m,\u001B[0m\u001B[1;33m\u001B[0m\u001B[1;33m\u001B[0m\u001B[0m\n\u001B[0;32m   5175\u001B[0m     ) -> DataFrame | None:\n\u001B[1;32m-> 5176\u001B[1;33m         return super().fillna(\n\u001B[0m\u001B[0;32m   5177\u001B[0m             \u001B[0mvalue\u001B[0m\u001B[1;33m=\u001B[0m\u001B[0mvalue\u001B[0m\u001B[1;33m,\u001B[0m\u001B[1;33m\u001B[0m\u001B[1;33m\u001B[0m\u001B[0m\n\u001B[0;32m   5178\u001B[0m             \u001B[0mmethod\u001B[0m\u001B[1;33m=\u001B[0m\u001B[0mmethod\u001B[0m\u001B[1;33m,\u001B[0m\u001B[1;33m\u001B[0m\u001B[1;33m\u001B[0m\u001B[0m\n",
      "\u001B[1;32m~\\.conda\\envs\\starcraft\\lib\\site-packages\\pandas\\core\\generic.py\u001B[0m in \u001B[0;36mfillna\u001B[1;34m(self, value, method, axis, inplace, limit, downcast)\u001B[0m\n\u001B[0;32m   6380\u001B[0m \u001B[1;33m\u001B[0m\u001B[0m\n\u001B[0;32m   6381\u001B[0m             \u001B[1;32melif\u001B[0m \u001B[1;32mnot\u001B[0m \u001B[0mis_list_like\u001B[0m\u001B[1;33m(\u001B[0m\u001B[0mvalue\u001B[0m\u001B[1;33m)\u001B[0m\u001B[1;33m:\u001B[0m\u001B[1;33m\u001B[0m\u001B[1;33m\u001B[0m\u001B[0m\n\u001B[1;32m-> 6382\u001B[1;33m                 new_data = self._mgr.fillna(\n\u001B[0m\u001B[0;32m   6383\u001B[0m                     \u001B[0mvalue\u001B[0m\u001B[1;33m=\u001B[0m\u001B[0mvalue\u001B[0m\u001B[1;33m,\u001B[0m \u001B[0mlimit\u001B[0m\u001B[1;33m=\u001B[0m\u001B[0mlimit\u001B[0m\u001B[1;33m,\u001B[0m \u001B[0minplace\u001B[0m\u001B[1;33m=\u001B[0m\u001B[0minplace\u001B[0m\u001B[1;33m,\u001B[0m \u001B[0mdowncast\u001B[0m\u001B[1;33m=\u001B[0m\u001B[0mdowncast\u001B[0m\u001B[1;33m\u001B[0m\u001B[1;33m\u001B[0m\u001B[0m\n\u001B[0;32m   6384\u001B[0m                 )\n",
      "\u001B[1;32m~\\.conda\\envs\\starcraft\\lib\\site-packages\\pandas\\core\\internals\\managers.py\u001B[0m in \u001B[0;36mfillna\u001B[1;34m(self, value, limit, inplace, downcast)\u001B[0m\n\u001B[0;32m    408\u001B[0m \u001B[1;33m\u001B[0m\u001B[0m\n\u001B[0;32m    409\u001B[0m     \u001B[1;32mdef\u001B[0m \u001B[0mfillna\u001B[0m\u001B[1;33m(\u001B[0m\u001B[0mself\u001B[0m\u001B[1;33m:\u001B[0m \u001B[0mT\u001B[0m\u001B[1;33m,\u001B[0m \u001B[0mvalue\u001B[0m\u001B[1;33m,\u001B[0m \u001B[0mlimit\u001B[0m\u001B[1;33m,\u001B[0m \u001B[0minplace\u001B[0m\u001B[1;33m:\u001B[0m \u001B[0mbool\u001B[0m\u001B[1;33m,\u001B[0m \u001B[0mdowncast\u001B[0m\u001B[1;33m)\u001B[0m \u001B[1;33m->\u001B[0m \u001B[0mT\u001B[0m\u001B[1;33m:\u001B[0m\u001B[1;33m\u001B[0m\u001B[1;33m\u001B[0m\u001B[0m\n\u001B[1;32m--> 410\u001B[1;33m         return self.apply(\n\u001B[0m\u001B[0;32m    411\u001B[0m             \u001B[1;34m\"fillna\"\u001B[0m\u001B[1;33m,\u001B[0m \u001B[0mvalue\u001B[0m\u001B[1;33m=\u001B[0m\u001B[0mvalue\u001B[0m\u001B[1;33m,\u001B[0m \u001B[0mlimit\u001B[0m\u001B[1;33m=\u001B[0m\u001B[0mlimit\u001B[0m\u001B[1;33m,\u001B[0m \u001B[0minplace\u001B[0m\u001B[1;33m=\u001B[0m\u001B[0minplace\u001B[0m\u001B[1;33m,\u001B[0m \u001B[0mdowncast\u001B[0m\u001B[1;33m=\u001B[0m\u001B[0mdowncast\u001B[0m\u001B[1;33m\u001B[0m\u001B[1;33m\u001B[0m\u001B[0m\n\u001B[0;32m    412\u001B[0m         )\n",
      "\u001B[1;32m~\\.conda\\envs\\starcraft\\lib\\site-packages\\pandas\\core\\internals\\managers.py\u001B[0m in \u001B[0;36mapply\u001B[1;34m(self, f, align_keys, ignore_failures, **kwargs)\u001B[0m\n\u001B[0;32m    325\u001B[0m                     \u001B[0mapplied\u001B[0m \u001B[1;33m=\u001B[0m \u001B[0mb\u001B[0m\u001B[1;33m.\u001B[0m\u001B[0mapply\u001B[0m\u001B[1;33m(\u001B[0m\u001B[0mf\u001B[0m\u001B[1;33m,\u001B[0m \u001B[1;33m**\u001B[0m\u001B[0mkwargs\u001B[0m\u001B[1;33m)\u001B[0m\u001B[1;33m\u001B[0m\u001B[1;33m\u001B[0m\u001B[0m\n\u001B[0;32m    326\u001B[0m                 \u001B[1;32melse\u001B[0m\u001B[1;33m:\u001B[0m\u001B[1;33m\u001B[0m\u001B[1;33m\u001B[0m\u001B[0m\n\u001B[1;32m--> 327\u001B[1;33m                     \u001B[0mapplied\u001B[0m \u001B[1;33m=\u001B[0m \u001B[0mgetattr\u001B[0m\u001B[1;33m(\u001B[0m\u001B[0mb\u001B[0m\u001B[1;33m,\u001B[0m \u001B[0mf\u001B[0m\u001B[1;33m)\u001B[0m\u001B[1;33m(\u001B[0m\u001B[1;33m**\u001B[0m\u001B[0mkwargs\u001B[0m\u001B[1;33m)\u001B[0m\u001B[1;33m\u001B[0m\u001B[1;33m\u001B[0m\u001B[0m\n\u001B[0m\u001B[0;32m    328\u001B[0m             \u001B[1;32mexcept\u001B[0m \u001B[1;33m(\u001B[0m\u001B[0mTypeError\u001B[0m\u001B[1;33m,\u001B[0m \u001B[0mNotImplementedError\u001B[0m\u001B[1;33m)\u001B[0m\u001B[1;33m:\u001B[0m\u001B[1;33m\u001B[0m\u001B[1;33m\u001B[0m\u001B[0m\n\u001B[0;32m    329\u001B[0m                 \u001B[1;32mif\u001B[0m \u001B[1;32mnot\u001B[0m \u001B[0mignore_failures\u001B[0m\u001B[1;33m:\u001B[0m\u001B[1;33m\u001B[0m\u001B[1;33m\u001B[0m\u001B[0m\n",
      "\u001B[1;32m~\\.conda\\envs\\starcraft\\lib\\site-packages\\pandas\\core\\internals\\blocks.py\u001B[0m in \u001B[0;36mfillna\u001B[1;34m(self, value, limit, inplace, downcast)\u001B[0m\n\u001B[0;32m    450\u001B[0m \u001B[1;33m\u001B[0m\u001B[0m\n\u001B[0;32m    451\u001B[0m         \u001B[1;32mif\u001B[0m \u001B[0mself\u001B[0m\u001B[1;33m.\u001B[0m\u001B[0m_can_hold_element\u001B[0m\u001B[1;33m(\u001B[0m\u001B[0mvalue\u001B[0m\u001B[1;33m)\u001B[0m\u001B[1;33m:\u001B[0m\u001B[1;33m\u001B[0m\u001B[1;33m\u001B[0m\u001B[0m\n\u001B[1;32m--> 452\u001B[1;33m             \u001B[0mnb\u001B[0m \u001B[1;33m=\u001B[0m \u001B[0mself\u001B[0m \u001B[1;32mif\u001B[0m \u001B[0minplace\u001B[0m \u001B[1;32melse\u001B[0m \u001B[0mself\u001B[0m\u001B[1;33m.\u001B[0m\u001B[0mcopy\u001B[0m\u001B[1;33m(\u001B[0m\u001B[1;33m)\u001B[0m\u001B[1;33m\u001B[0m\u001B[1;33m\u001B[0m\u001B[0m\n\u001B[0m\u001B[0;32m    453\u001B[0m             \u001B[0mputmask_inplace\u001B[0m\u001B[1;33m(\u001B[0m\u001B[0mnb\u001B[0m\u001B[1;33m.\u001B[0m\u001B[0mvalues\u001B[0m\u001B[1;33m,\u001B[0m \u001B[0mmask\u001B[0m\u001B[1;33m,\u001B[0m \u001B[0mvalue\u001B[0m\u001B[1;33m)\u001B[0m\u001B[1;33m\u001B[0m\u001B[1;33m\u001B[0m\u001B[0m\n\u001B[0;32m    454\u001B[0m             \u001B[1;32mreturn\u001B[0m \u001B[0mnb\u001B[0m\u001B[1;33m.\u001B[0m\u001B[0m_maybe_downcast\u001B[0m\u001B[1;33m(\u001B[0m\u001B[1;33m[\u001B[0m\u001B[0mnb\u001B[0m\u001B[1;33m]\u001B[0m\u001B[1;33m,\u001B[0m \u001B[0mdowncast\u001B[0m\u001B[1;33m)\u001B[0m\u001B[1;33m\u001B[0m\u001B[1;33m\u001B[0m\u001B[0m\n",
      "\u001B[1;32m~\\.conda\\envs\\starcraft\\lib\\site-packages\\pandas\\core\\internals\\blocks.py\u001B[0m in \u001B[0;36mcopy\u001B[1;34m(self, deep)\u001B[0m\n\u001B[0;32m    648\u001B[0m         \u001B[0mvalues\u001B[0m \u001B[1;33m=\u001B[0m \u001B[0mself\u001B[0m\u001B[1;33m.\u001B[0m\u001B[0mvalues\u001B[0m\u001B[1;33m\u001B[0m\u001B[1;33m\u001B[0m\u001B[0m\n\u001B[0;32m    649\u001B[0m         \u001B[1;32mif\u001B[0m \u001B[0mdeep\u001B[0m\u001B[1;33m:\u001B[0m\u001B[1;33m\u001B[0m\u001B[1;33m\u001B[0m\u001B[0m\n\u001B[1;32m--> 650\u001B[1;33m             \u001B[0mvalues\u001B[0m \u001B[1;33m=\u001B[0m \u001B[0mvalues\u001B[0m\u001B[1;33m.\u001B[0m\u001B[0mcopy\u001B[0m\u001B[1;33m(\u001B[0m\u001B[1;33m)\u001B[0m\u001B[1;33m\u001B[0m\u001B[1;33m\u001B[0m\u001B[0m\n\u001B[0m\u001B[0;32m    651\u001B[0m         \u001B[1;32mreturn\u001B[0m \u001B[0mself\u001B[0m\u001B[1;33m.\u001B[0m\u001B[0mmake_block_same_class\u001B[0m\u001B[1;33m(\u001B[0m\u001B[0mvalues\u001B[0m\u001B[1;33m)\u001B[0m\u001B[1;33m\u001B[0m\u001B[1;33m\u001B[0m\u001B[0m\n\u001B[0;32m    652\u001B[0m \u001B[1;33m\u001B[0m\u001B[0m\n",
      "\u001B[1;31mKeyboardInterrupt\u001B[0m: "
     ]
    }
   ],
   "source": [
    "for rep_name in ['212.rep']:\n",
    "    raw_dataframe, terminal_frame, (terrain_pixel, terrain_tile), vision_dataframe = load_data(rep_name)\n",
    "    replay_file_number = rep_name.split('.')[0]\n",
    "    os.makedirs('data_compressed3/{}'.format(replay_file_number), exist_ok=True)\n",
    "    \n",
    "    # copy (rep.vpd => data_compressed)\n",
    "    # shutil.copy(data_dir+replay_file_number+'.rep.vpd','data_compressed3/' + replay_file_number+'/'+ replay_file_number +'.rep.vpd')\n",
    "    \n",
    "    result = []\n",
    "    ### load_data에서 # players < 2인 가장 작은 프레임이 terminal_frame으로 계산하여 terminal frame으로 사용함\n",
    "    for t in tqdm(list(range(0, terminal_frame, INTERVAL))): \n",
    "        # RAW DATA\n",
    "        current_raw_dataframe = raw_dataframe.loc[t == raw_dataframe['frame']]\n",
    "        \n",
    "        current_raw_data_channels = raw_dataframe_into_channels(current_raw_dataframe) ###\n",
    "        # TERRAIN\n",
    "        current_terrain_tile = np.expand_dims(terrain_tile, 0)\n",
    "        # VISION\n",
    "        current_vision_dataframe = vision_dataframe.loc[t == vision_dataframe['frame']]\n",
    "        current_vision_data_channel = vision_dataframe_into_channel(current_vision_dataframe, terrain_tile.shape)\n",
    "\n",
    "        # RESULT\n",
    "        # print(current_raw_data_channels.shape, current_vision_data_channel.shape, current_terrain_tile.shape)\n",
    "        current_channels = np.vstack([current_raw_data_channels, current_vision_data_channel, current_terrain_tile])\n",
    "        # print('current frame channels: ', current_channels.shape)\n",
    "        result.append(current_channels)\n",
    "        \n",
    "    result = np.stack(result)\n",
    "    # np.save(data_dir + '{}.channels'.format(rep_name), result, allow_pickle=True)\n",
    "    np.savez_compressed('data_compressed3/' + replay_file_number+'/' + '{}.channels_compressed'.format(rep_name), data=result)    \n",
    "    plot_samples(int(len(result)*0.6))"
   ]
  },
  {
   "cell_type": "markdown",
   "metadata": {},
   "source": [
    "0. player_1_channel_worker\n",
    "0. player_1_channel_ground\n",
    "0. player_1_channel_air\n",
    "0. player_1_channel_trivial\n",
    "0. player_1_channel_building\n",
    "0. player_1_channel_spell\n",
    "\n",
    "0. player_2_channel_worker\n",
    "0. player_2_channel_ground\n",
    "0. player_2_channel_air\n",
    "0. player_2_channel_trivial\n",
    "0. player_2_channel_building\n",
    "0. player_2_channel_spell\n",
    "\n",
    "0. resource_channel\n",
    "0. vision_data_channel\n",
    "0. terrain_tile"
   ]
  },
  {
   "cell_type": "code",
   "execution_count": null,
   "metadata": {},
   "outputs": [],
   "source": []
  }
 ],
 "metadata": {
  "kernelspec": {
   "display_name": "Python 3 (ipykernel)",
   "language": "python",
   "name": "python3"
  },
  "language_info": {
   "codemirror_mode": {
    "name": "ipython",
    "version": 3
   },
   "file_extension": ".py",
   "mimetype": "text/x-python",
   "name": "python",
   "nbconvert_exporter": "python",
   "pygments_lexer": "ipython3",
   "version": "3.9.7"
  }
 },
 "nbformat": 4,
 "nbformat_minor": 4
}