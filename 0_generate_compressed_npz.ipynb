{
 "cells": [
  {
   "cell_type": "code",
   "execution_count": 59,
   "metadata": {},
   "outputs": [],
   "source": [
    "import os\n",
    "from glob import glob\n",
    "import multiprocessing as mp\n",
    "\n",
    "import numpy as np\n",
    "import pandas as pd\n",
    "import platform\n",
    "from tqdm import tqdm\n",
    "\n",
    "from matplotlib import pyplot as plt\n",
    "from matplotlib import patches as patches\n",
    "import matplotlib.widgets\n",
    "from matplotlib.animation import FuncAnimation, PillowWriter\n",
    "import mpl_toolkits.axes_grid1\n",
    "from mpl_toolkits.axes_grid1 import Size\n",
    "import shutil\n",
    "\n",
    "from starcraft.Colors import *\n",
    "from starcraft.UnitType import *\n",
    "\n",
    "pd.options.mode.chained_assignment = None  # default='warn'"
   ]
  },
  {
   "cell_type": "code",
   "execution_count": 22,
   "metadata": {},
   "outputs": [],
   "source": [
    "data_dir = '../data/'\n",
    "data_dir = 'C:/TM/starcraft/bwapi-data/write/'"
   ]
  },
  {
   "cell_type": "code",
   "execution_count": 4,
   "metadata": {},
   "outputs": [],
   "source": [
    "SCREEN_WIDTH, SCREEN_HEIGHT = 640, 384\n",
    "TILE_SIZE = 32\n",
    "FPS = 24\n",
    "INTERVAL = 8\n",
    "\n",
    "# cpu_count = int(mp.cpu_count())\n",
    "# num_workers = int(cpu_count * 0.8)"
   ]
  },
  {
   "cell_type": "code",
   "execution_count": 5,
   "metadata": {},
   "outputs": [],
   "source": [
    "def preprocess_raw_data(dataframe):\n",
    "    dataframe['x_tile'] = dataframe['x'].apply(lambda x: x // TILE_SIZE)\n",
    "    dataframe['y_tile'] = dataframe['y'].apply(lambda x: x // TILE_SIZE)\n",
    "    dataframe['left_tile'] = dataframe['left'].apply(lambda x: x / TILE_SIZE)\n",
    "    dataframe['right_tile'] = dataframe['right'].apply(lambda x: x / TILE_SIZE)\n",
    "    dataframe['top_tile'] = dataframe['top'].apply(lambda x: x / TILE_SIZE)\n",
    "    dataframe['bottom_tile'] = dataframe['bottom'].apply(lambda x: x / TILE_SIZE)\n",
    "    \n",
    "    dataframe['left_tile'] = np.round(dataframe['left_tile'])\n",
    "    dataframe['right_tile'] = np.round(dataframe['right_tile'])\n",
    "    dataframe['top_tile'] = np.round(dataframe['top_tile'])\n",
    "    dataframe['bottom_tile'] = np.round(dataframe['bottom_tile'])\n",
    "    \n",
    "    dataframe['width_tile'] = dataframe['right_tile'] - dataframe['left_tile']\n",
    "    dataframe['height_tile'] = dataframe['bottom_tile'] - dataframe['top_tile']\n",
    "\n",
    "    ## race is Zerg when player is Neutral\n",
    "    dataframe.loc[dataframe['player'] == 'Neutral', 'race'] = 'None'\n",
    "    dataframe.loc[dataframe['player'] == 'Neutral', 'player_color'] = 'Cyan'\n",
    "    \n",
    "    return dataframe\n",
    "    # print('players: ', dataframe['player'].unique())\n",
    "    # print('player colors: ', dataframe['player_color'].unique())\n",
    "    # print('races: ', dataframe['race'].unique())\n",
    "    # dataframe.head()"
   ]
  },
  {
   "cell_type": "code",
   "execution_count": 6,
   "metadata": {},
   "outputs": [],
   "source": [
    "def preprocess_terrain_in_pixel(terrain_tile):\n",
    "    terrain = list()\n",
    "    for h in range(terrain_tile.shape[0]):\n",
    "        tmp_row = np.hstack([np.asarray([terrain_tile[h][w]] * TILE_SIZE) for w in range(terrain_tile.shape[1])])\n",
    "        tmp_row = np.vstack([tmp_row] * TILE_SIZE)\n",
    "        terrain.append(tmp_row)\n",
    "    terrain = np.concatenate(terrain)\n",
    "    return terrain"
   ]
  },
  {
   "cell_type": "code",
   "execution_count": 7,
   "metadata": {},
   "outputs": [],
   "source": [
    "def preprocess_vision_data(dataframe, terminal_frame):\n",
    "    ## terminal_frame까지 ffill로 보간\n",
    "    dataframe = dataframe.set_index('frame')\n",
    "    dataframe = dataframe.reindex(range(terminal_frame))\n",
    "    dataframe = dataframe.fillna(method='ffill')\n",
    "    dataframe = dataframe.reset_index()\n",
    "    return dataframe"
   ]
  },
  {
   "cell_type": "code",
   "execution_count": 8,
   "metadata": {},
   "outputs": [],
   "source": [
    "def load_data(replay_name):\n",
    "    df_raw = pd.read_csv(data_dir + replay_name + \".raw\", index_col=None)\n",
    "    df_raw = preprocess_raw_data(df_raw)\n",
    "    \n",
    "    # print('# of All data over time: ', len(df_raw))\n",
    "    players_in_frame = df_raw.loc[df_raw['player'] != 'Neutral'][['frame', 'player']].groupby(['frame', 'player'], as_index=False).agg('count')\n",
    "    players_in_frame = players_in_frame.groupby('frame', as_index=False).agg('count')\n",
    "\n",
    "    single_player_only = players_in_frame.loc[players_in_frame['player'] < 2]\n",
    "    terminal_frame = single_player_only['frame'].min()\n",
    "    if np.isnan(terminal_frame): terminal_frame = df_raw['frame'].max()\n",
    "    \n",
    "    df_vision = pd.read_csv(data_dir + replay_name + \".vision\", index_col=None)\n",
    "    df_vision = preprocess_vision_data(df_vision, terminal_frame)\n",
    "\n",
    "    terrain_tile = np.genfromtxt(data_dir + replay_name + \".terrain\", delimiter=',', dtype=int)\n",
    "    terrain_pixel = preprocess_terrain_in_pixel(terrain_tile)\n",
    "    # print('Terrain shape(TILE): ', terrain_tile.shape)\n",
    "    # print('Terrain shape(PIXEL): ', terrain_pixel.shape)\n",
    "\n",
    "    ## faster than list comprehension\n",
    "    # last_t_index = df.groupby('frame', as_index=False).size()['size'].cumsum()\n",
    "    # dataset = []\n",
    "    # last_check = 0\n",
    "    # for ind in last_t_index:\n",
    "    #     dataset.append(df.loc[last_check:ind-1])\n",
    "    #     last_check = ind\n",
    "    \n",
    "    return df_raw, terminal_frame, (terrain_pixel, terrain_tile), df_vision, "
   ]
  },
  {
   "cell_type": "code",
   "execution_count": 9,
   "metadata": {},
   "outputs": [],
   "source": [
    "def make_channels(dataframe):\n",
    "    channel = dataframe.pivot_table('name', 'y_tile', 'x_tile', aggfunc='count')\n",
    "    channel = channel.reindex(range(terrain_tile.shape[0]))\n",
    "    channel = channel.T.reindex(range(terrain_tile.shape[1]))\n",
    "    channel = channel.fillna(0).astype(int).T\n",
    "    channel = np.asarray(channel)\n",
    "    return channel"
   ]
  },
  {
   "cell_type": "code",
   "execution_count": 10,
   "metadata": {},
   "outputs": [],
   "source": [
    "def make_player_channels(dataframe):\n",
    "    if len(dataframe) == 0: return\n",
    "    \n",
    "    dataframe['isUnit'] = dataframe['name'].apply(lambda x: UnitType(x).isUnit)\n",
    "    dataframe['isGround'] = dataframe['name'].apply(lambda x: UnitType(x).isGround)\n",
    "    dataframe['isAir'] = dataframe['name'].apply(lambda x: UnitType(x).isAir)\n",
    "    \n",
    "    dataframe['isBuilding'] = dataframe['name'].apply(lambda x: UnitType(x).isBuilding)\n",
    "    dataframe['isAddon'] = dataframe['name'].apply(lambda x: UnitType(x).isAddon)\n",
    "    \n",
    "    dataframe['isSpell'] = dataframe['name'].apply(lambda x: UnitType(x).isSpell)\n",
    "    dataframe['isTrivial'] = dataframe['name'].apply(lambda x: UnitType(x).isTrivial)\n",
    "    \n",
    "    units = dataframe.loc[dataframe['isUnit']]\n",
    "    units_ground = dataframe.loc[dataframe['isGround']]\n",
    "    units_air = dataframe.loc[dataframe['isAir']]\n",
    "    \n",
    "    buildings = dataframe.loc[dataframe['isBuilding']]\n",
    "    addons = dataframe.loc[dataframe['isAddon']]\n",
    "    \n",
    "    spells = dataframe.loc[dataframe['isSpell']]\n",
    "\n",
    "    channel_ground = make_channels(units_ground)\n",
    "    channel_air = make_channels(units_air)\n",
    "    channel_building = make_channels(buildings)\n",
    "    channel_spell = make_channels(spells)\n",
    "    \n",
    "    return np.stack([channel_ground, channel_air, channel_building, channel_spell])"
   ]
  },
  {
   "cell_type": "code",
   "execution_count": 11,
   "metadata": {},
   "outputs": [],
   "source": [
    "def make_resource_channels(dataframe):\n",
    "    if len(dataframe) == 0: return\n",
    "\n",
    "    dataframe['isResource'] = dataframe.apply(lambda row: UnitType(row['name']).isResource, axis=1)\n",
    "    resources = dataframe.loc[dataframe['isResource']]\n",
    "    channel_resource = make_channels(resources) # (128, 128)\n",
    "    return np.expand_dims(channel_resource, 0) # (1, 128, 128)"
   ]
  },
  {
   "cell_type": "code",
   "execution_count": 57,
   "metadata": {},
   "outputs": [],
   "source": [
    "def raw_dataframe_into_channels(dataframe, tile_size=32):\n",
    "    if len(dataframe) == 0: return\n",
    "    \n",
    "    players = list(dataframe['player'].unique())\n",
    "    players.remove('Neutral')\n",
    "    player1, player2 = players[0], players[1]\n",
    "    \n",
    "    player1_dataframe = dataframe.loc[dataframe['player'] == player1]\n",
    "    player2_dataframe = dataframe.loc[dataframe['player'] == player2]\n",
    "    neutral_dataframe = dataframe.loc[dataframe['player'] == 'Neutral']\n",
    "    \n",
    "    player1_channels = make_player_channels(player1_dataframe)\n",
    "    player2_channels = make_player_channels(player2_dataframe)\n",
    "    resource_channel = make_resource_channels(neutral_dataframe)\n",
    "    \n",
    "#     print('player 1: ', player1_channels.shape)\n",
    "#     print('player 2: ', player2_channels.shape)\n",
    "#     print('neutral(resource, terrain): ', neutral_channels.shape)\n",
    "#     print(player1_channels.shape, player2_channels.shape, neutral_channels.shape)\n",
    "    current_frame_channels = np.vstack([player1_channels, player2_channels, resource_channel])\n",
    "    return current_frame_channels"
   ]
  },
  {
   "cell_type": "code",
   "execution_count": 12,
   "metadata": {},
   "outputs": [],
   "source": [
    "def vision_dataframe_into_channel(dataframe, shape):\n",
    "    vision = dataframe.iloc[0]['state']\n",
    "    vision = np.array(list(vision)).astype(int)\n",
    "    vision = vision.reshape(shape) # (HEIGHT, WIDTH)\n",
    "    vision = np.expand_dims(vision, 0) # (1, HEIGHT, WIDTH)\n",
    "    return vision\n",
    "    # np.asarray(list(tb.iloc[t_frame * 24]['state'])).astype(int).reshape(terrain_tile.shape)    "
   ]
  },
  {
   "cell_type": "code",
   "execution_count": 13,
   "metadata": {},
   "outputs": [],
   "source": [
    "def plot_samples(frame):\n",
    "    ## player1 units, and buildings\n",
    "    fig = plt.figure(figsize=(24, 6), dpi=100)\n",
    "    fig.suptitle('Player 1')\n",
    "    nrows, ncols = 1, 4\n",
    "    ax1 = fig.add_subplot(nrows, ncols, 1)\n",
    "    ax1.imshow(result[frame, 0], 'binary')\n",
    "    ax1.set_title('ground')\n",
    "    ax2 = fig.add_subplot(nrows, ncols, 2)\n",
    "    ax2.imshow(result[frame, 1], 'binary')\n",
    "    ax2.set_title('air')\n",
    "    ax3 = fig.add_subplot(nrows, ncols, 3)\n",
    "    ax3.imshow(result[frame, 2], 'binary')\n",
    "    ax3.set_title('building')\n",
    "    ax4 = fig.add_subplot(nrows, ncols, 4)\n",
    "    ax4.imshow(result[frame, 3], 'binary')\n",
    "    ax4.set_title('spell')\n",
    "    plt.show()\n",
    "\n",
    "    ## player2 units, and buildings\n",
    "    fig = plt.figure(figsize=(24, 6), dpi=100)\n",
    "    fig.suptitle('Player 2')\n",
    "    nrows, ncols = 1, 4\n",
    "    ax1 = fig.add_subplot(nrows, ncols, 1)\n",
    "    ax1.imshow(result[frame, 4], 'binary')\n",
    "    ax1.set_title('ground')\n",
    "    ax2 = fig.add_subplot(nrows, ncols, 2)\n",
    "    ax2.imshow(result[frame, 5], 'binary')\n",
    "    ax2.set_title('air')\n",
    "    ax3 = fig.add_subplot(nrows, ncols, 3)\n",
    "    ax3.imshow(result[frame, 6], 'binary')\n",
    "    ax3.set_title('building')\n",
    "    ax4 = fig.add_subplot(nrows, ncols, 4)\n",
    "    ax4.imshow(result[frame, 7], 'binary')\n",
    "    ax4.set_title('spell')\n",
    "    plt.show()\n",
    "\n",
    "    ## resources, vision, and terrain\n",
    "    fig = plt.figure(figsize=(18, 6), dpi=100)\n",
    "    fig.suptitle('Neutral')\n",
    "    nrows, ncols = 1, 3\n",
    "    ax1 = fig.add_subplot(nrows, ncols, 1)\n",
    "    ax1.imshow(result[frame, 8], 'binary')\n",
    "    ax1.set_title('resource field')\n",
    "    ax2 = fig.add_subplot(nrows, ncols, 2)\n",
    "    ax2.imshow(result[frame, 9], 'binary')\n",
    "    ax2.set_title('vision')\n",
    "    ax3 = fig.add_subplot(nrows, ncols, 3)\n",
    "    ax3.imshow(result[frame, 10], 'binary')\n",
    "    ax3.set_title('terrain')\n",
    "    plt.show()"
   ]
  },
  {
   "cell_type": "code",
   "execution_count": 14,
   "metadata": {},
   "outputs": [],
   "source": [
    "def preprocess_viewport_data(rep_name):\n",
    "    ## viewport data missing frame 보간하여 저장\n",
    "    viewport_data = pd.read_csv(data_dir + '{}.vpd'.format(rep_name), index_col=None)\n",
    "\n",
    "    viewport_data = viewport_data.set_index('frame')\n",
    "    viewport_data = viewport_data.reindex(range(terminal_frame))\n",
    "    viewport_data = viewport_data.fillna(method='ffill')\n",
    "    viewport_data = viewport_data.reset_index()\n",
    "\n",
    "    viewport_data['vpx'] = viewport_data['vpx'].astype(int)\n",
    "    viewport_data['vpy'] = viewport_data['vpy'].astype(int)\n",
    "\n",
    "    viewport_data.to_csv(data_dir + '{}.vpd_full'.format(rep_name), index=None)"
   ]
  },
  {
   "cell_type": "code",
   "execution_count": 25,
   "metadata": {},
   "outputs": [
    {
     "data": {
      "text/plain": [
       "['6254.rep']"
      ]
     },
     "execution_count": 25,
     "metadata": {},
     "output_type": "execute_result"
    }
   ],
   "source": [
    "rep_names = [os.path.splitext(os.path.basename(raw))[0] for raw in sorted(glob(data_dir + '*.raw'))]\n",
    "rep_names"
   ]
  },
  {
   "cell_type": "code",
   "execution_count": null,
   "metadata": {},
   "outputs": [],
   "source": [
    "os.makedirs('../result/{}'.format(rep_name), exist_ok=True)"
   ]
  },
  {
   "cell_type": "code",
   "execution_count": 28,
   "metadata": {},
   "outputs": [],
   "source": [
    "os.makedirs('data_compressed3', exist_ok=True)"
   ]
  },
  {
   "cell_type": "code",
   "execution_count": 30,
   "metadata": {},
   "outputs": [],
   "source": [
    "rep_name = rep_names[0]"
   ]
  },
  {
   "cell_type": "code",
   "execution_count": 50,
   "metadata": {},
   "outputs": [],
   "source": [
    "kk = rep_name.split('.')"
   ]
  },
  {
   "cell_type": "code",
   "execution_count": 53,
   "metadata": {},
   "outputs": [],
   "source": []
  },
  {
   "cell_type": "code",
   "execution_count": 61,
   "metadata": {},
   "outputs": [
    {
     "name": "stderr",
     "output_type": "stream",
     "text": [
      "100%|██████████████████████████████████████████████████████████████████████████████████████████████████████████████████████████████████████████████████████████████████████████████████████████████| 3107/3107 [03:49<00:00, 13.55it/s]\n"
     ]
    },
    {
     "data": {
      "image/png": "[encoded data removed]",
      "text/plain": [
       "<Figure size 2400x600 with 4 Axes>"
      ]
     },
     "metadata": {
      "needs_background": "light"
     },
     "output_type": "display_data"
    },
    {
     "data": {
      "image/png": "[encoded data removed]",
      "text/plain": [
       "<Figure size 2400x600 with 4 Axes>"
      ]
     },
     "metadata": {
      "needs_background": "light"
     },
     "output_type": "display_data"
    },
    {
     "data": {
      "image/png": "[encoded data removed]",
      "text/plain": [
       "<Figure size 1800x600 with 3 Axes>"
      ]
     },
     "metadata": {
      "needs_background": "light"
     },
     "output_type": "display_data"
    }
   ],
   "source": [
    "for rep_name in rep_names:\n",
    "    raw_dataframe, terminal_frame, (terrain_pixel, terrain_tile), vision_dataframe = load_data(rep_name)\n",
    "    replay_file_number = rep_name.split('.')[0]\n",
    "    os.makedirs('data_compressed3/{}'.format(replay_file_number), exist_ok=True)\n",
    "    \n",
    "    # copy (rep.vpd => data_compressed)\n",
    "    shutil.copy(data_dir+replay_file_number+'.rep.vpd','data_compressed3/' + replay_file_number+'/'+ replay_file_number +'.rep.vpd')\n",
    "    \n",
    "    result = []\n",
    "    ### load_data에서 # players < 2인 가장 작은 프레임이 terminal_frame으로 계산하여 terminal frame으로 사용함\n",
    "    for t in tqdm(list(range(0, terminal_frame, INTERVAL))): \n",
    "        # RAW DATA\n",
    "        current_raw_dataframe = raw_dataframe.loc[t == raw_dataframe['frame']]\n",
    "        \n",
    "        current_raw_data_channels = raw_dataframe_into_channels(current_raw_dataframe) ###\n",
    "        # TERRAIN\n",
    "        current_terrain_tile = np.expand_dims(terrain_tile, 0)\n",
    "        # VISION\n",
    "        current_vision_dataframe = vision_dataframe.loc[t == vision_dataframe['frame']]\n",
    "        current_vision_data_channel = vision_dataframe_into_channel(current_vision_dataframe, terrain_tile.shape)\n",
    "\n",
    "        # RESULT\n",
    "        # print(current_raw_data_channels.shape, current_vision_data_channel.shape, current_terrain_tile.shape)\n",
    "        current_channels = np.vstack([current_raw_data_channels, current_vision_data_channel, current_terrain_tile])\n",
    "        # print('current frame channels: ', current_channels.shape)\n",
    "        result.append(current_channels)\n",
    "        \n",
    "    result = np.stack(result)\n",
    "    # np.save(data_dir + '{}.channels'.format(rep_name), result, allow_pickle=True)\n",
    "    np.savez_compressed('data_compressed3/' + replay_file_number+'/' + '{}.channels_compressed'.format(rep_name), data=result)    \n",
    "    plot_samples(int(len(result)*0.6))"
   ]
  },
  {
   "cell_type": "code",
   "execution_count": null,
   "metadata": {},
   "outputs": [],
   "source": []
  }
 ],
 "metadata": {
  "kernelspec": {
   "display_name": "Python 3 (ipykernel)",
   "language": "python",
   "name": "python3"
  },
  "language_info": {
   "codemirror_mode": {
    "name": "ipython",
    "version": 3
   },
   "file_extension": ".py",
   "mimetype": "text/x-python",
   "name": "python",
   "nbconvert_exporter": "python",
   "pygments_lexer": "ipython3",
   "version": "3.7.0"
  }
 },
 "nbformat": 4,
 "nbformat_minor": 1
}