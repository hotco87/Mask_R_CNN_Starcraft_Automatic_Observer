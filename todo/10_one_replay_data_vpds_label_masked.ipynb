{
 "cells": [
  {
   "cell_type": "code",
   "execution_count": 1,
   "id": "f165e34f",
   "metadata": {},
   "outputs": [],
   "source": [
    "import numpy as np\n",
    "import pandas as pd\n",
    "from glob import glob\n",
    "from matplotlib import pyplot as plt\n",
    "from matplotlib import patches\n",
    "import os\n",
    "from tqdm import tqdm\n",
    "\n",
    "from scipy.spatial import distance\n",
    "from scipy.ndimage.filters import maximum_filter\n",
    "from scipy.ndimage.morphology import generate_binary_structure, iterate_structure, binary_erosion"
   ]
  },
  {
   "cell_type": "code",
   "execution_count": 2,
   "id": "cfe40db1",
   "metadata": {},
   "outputs": [],
   "source": [
    "SCREEN_WIDTH = 640\n",
    "SCREEN_HEIGHT = 480\n",
    "\n",
    "HUD_WIDTH = 0\n",
    "HUD_HEIGHT = 96 # 640 x 384\n",
    "# HUD_HEIGHT = 104 # 640 x 376\n",
    "\n",
    "ORIGIN_SHAPE = (128, 128)\n",
    "KERNEL_SHAPE = (20, 12)\n",
    "TILE_SIZE = 32"
   ]
  },
  {
   "cell_type": "code",
   "execution_count": 51,
   "id": "6aeb3dd9",
   "metadata": {},
   "outputs": [],
   "source": [
    "data_dir = \"data_compressed3/\""
   ]
  },
  {
   "cell_type": "code",
   "execution_count": 45,
   "id": "497cea29",
   "metadata": {},
   "outputs": [],
   "source": [
    "def get_players_vpds(rep_name):\n",
    "    # vpd_paths = glob(data_dir + \"*.vpd\")\n",
    "    # print(\"vpd_paths:\",vpd_paths)\n",
    "    dataframes = [pd.read_csv(_, index_col=None )for _ in vpd_paths]\n",
    "    num_dataset = len(dataframes)\n",
    "    \n",
    "    result = []\n",
    "    for dataframe in dataframes:\n",
    "        dataframe = dataframe.set_index('frame')\n",
    "        dataframe = dataframe.reindex(range(dataframe.tail(1).index[0]))\n",
    "        dataframe = dataframe.fillna(method='ffill')\n",
    "        dataframe = dataframe.reset_index()\n",
    "        dataframe = dataframe.astype(int)\n",
    "        dataframe = dataframe.set_index('frame')\n",
    "        result.append(dataframe)\n",
    "        \n",
    "    print(result)\n",
    "    dataframes = pd.concat(result, axis=1)\n",
    "    dataframes = dataframes.fillna(method='ffill')\n",
    "    dataframes = dataframes.astype(int)\n",
    "    \n",
    "    dataframes_columns = []\n",
    "    for i in range(num_dataset):\n",
    "        dataframes_columns.append('vpx_{}'.format(i + 1))\n",
    "        dataframes_columns.append('vpy_{}'.format(i + 1))\n",
    "    dataframes.columns = dataframes_columns\n",
    "    \n",
    "    return dataframes, num_dataset"
   ]
  },
  {
   "cell_type": "code",
   "execution_count": 5,
   "id": "7b245c78",
   "metadata": {},
   "outputs": [],
   "source": [
    "def mapping_vpd_into_channel(vpds_tile, kernel_shape=KERNEL_SHAPE, origin_shape=ORIGIN_SHAPE, num_dataset=5):\n",
    "    frames = np.zeros((np.max(vpds_tile.index.max()) + 1,) + (origin_shape))\n",
    "    kernel = np.ones(kernel_shape)\n",
    "    \n",
    "    for idx, row in vpds_tile.iterrows():\n",
    "        for i in range(num_dataset):\n",
    "            frames[idx][row['vpx_{}'.format(i+1)]:row['vpx_{}'.format(i+1)] + kernel.shape[0], row['vpy_{}'.format(i+1)]:row['vpy_{}'.format(i+1)] + kernel_shape[1]] += kernel\n",
    "    return frames     "
   ]
  },
  {
   "cell_type": "code",
   "execution_count": 6,
   "id": "0434daf9",
   "metadata": {},
   "outputs": [],
   "source": [
    "def kernel_sum(frame, origin_shape=ORIGIN_SHAPE, kernel_shape=KERNEL_SHAPE):\n",
    "    width_tile = origin_shape[0] - kernel_shape[0]\n",
    "    height_tile = origin_shape[1] - kernel_shape[1]\n",
    "\n",
    "    result = np.zeros((width_tile, height_tile))\n",
    "    \n",
    "    for x in range(width_tile):\n",
    "        for y in range(height_tile):\n",
    "            result[x][y] = frame[x:x+kernel_shape[0],y:y+kernel_shape[1]].sum()\n",
    "            # print(x, x+kernel_width, y, y+kernel_height, frame[x:x+kernel_width,y:y+kernel_height].sum())\n",
    "            # print(frame[x:x+kernel_width,y:y+kernel_height].shape)\n",
    "\n",
    "    max_vpx = np.argmax(result)\n",
    "    max_vpx_tile = (max_vpx // height_tile) * TILE_SIZE\n",
    "    max_vpy_tile = (max_vpx % height_tile) * TILE_SIZE\n",
    "    \n",
    "    return result, (max_vpx_tile, max_vpy_tile)"
   ]
  },
  {
   "cell_type": "code",
   "execution_count": 7,
   "id": "4aa74c93",
   "metadata": {},
   "outputs": [],
   "source": [
    "def vpds_tile_into_channel_kernel_sum(channel_vpds):\n",
    "    res_kernel_sum = []\n",
    "    max_vp_coord = []\n",
    "    \n",
    "    for t, frame in tqdm(enumerate(channel_vpds), total=channel_vpds.shape[0]):\n",
    "        res, coord = kernel_sum(frame, kernel_shape=KERNEL_SHAPE)\n",
    "        res_kernel_sum.append(res)\n",
    "        max_vp_coord.append(coord)\n",
    "    \n",
    "    return np.asarray(res_kernel_sum), np.asarray(max_vp_coord)"
   ]
  },
  {
   "cell_type": "code",
   "execution_count": 8,
   "id": "1fa2fd07",
   "metadata": {},
   "outputs": [],
   "source": [
    "def find_unique_peaks(peaks, threshhold):\n",
    "    \n",
    "    tmp = peaks.reshape(peaks.shape[0], 1, peaks.shape[1])\n",
    "    distance_each = np.sqrt(np.einsum('ijk, ijk->ij', peaks - tmp, peaks - tmp))\n",
    "    \n",
    "    tf_mat = distance_each > threshold    \n",
    "    tf_mat_except_diagonal = tf_mat[~np.eye(tf_mat.shape[0],dtype=bool)].reshape(tf_mat.shape[0], -1)    \n",
    "    \n",
    "    all_true = np.bitwise_and.reduce(tf_mat_except_diagonal, axis=1)\n",
    "    ## 다른 걸로부터 독립적인 것들\n",
    "    isolated = np.where(all_true)\n",
    "    ## 서로 독립적이지 않은 것들\n",
    "    not_isolated = np.where(~all_true)\n",
    "    \n",
    "    ## 서로 독립적이지 않은 것들중 Unique한 것을 찾음\n",
    "    not_isolated_result = []\n",
    "    not_isolated_unique = np.unique(tf_mat_except_diagonal[~all_true], axis=0)\n",
    "    for idx in range(not_isolated_unique.shape[0]):\n",
    "        niche = np.asarray([(tf_mat_except_diagonal[tf_idx] == not_isolated_unique[idx]).all() for tf_idx in range(tf_mat_except_diagonal.shape[0])])\n",
    "        not_isolated_result.append(peaks[niche].mean(axis=0).astype(int))\n",
    "\n",
    "    return peaks[isolated], np.asarray(not_isolated_result)"
   ]
  },
  {
   "cell_type": "code",
   "execution_count": 65,
   "id": "439fbac7",
   "metadata": {},
   "outputs": [
    {
     "name": "stdout",
     "output_type": "stream",
     "text": [
      "['6254']\n",
      "data_compressed3/6254/6254.rep.vpd\n",
      "[        vpx   vpy\n",
      "frame            \n",
      "0      3456    64\n",
      "1      3456    64\n",
      "2      3456    64\n",
      "3      3456    64\n",
      "4      3456    64\n",
      "...     ...   ...\n",
      "24741  3360  2944\n",
      "24742  3360  2944\n",
      "24743  3360  2944\n",
      "24744  3360  2944\n",
      "24745  3360  2944\n",
      "\n",
      "[24746 rows x 2 columns]]\n",
      "vpd_paths: ['data_compressed3/6254\\\\6254.rep.vpd']\n"
     ]
    }
   ],
   "source": [
    "# path = \"./data_compressed/\"\n",
    "replay_file_name_list = os.listdir(data_dir)\n",
    "print(replay_file_name_list)\n",
    "for i in replay_file_name_list:\n",
    "    print(data_dir +i+\"/\"+i+\".rep.vpd\")\n",
    "    vpds, num_dataset = get_players_vpds(data_dir)\n",
    "    vpds_tile = (vpds / TILE_SIZE).astype(int)\n",
    "    print(\"vpd_paths:\",vpd_paths)\n",
    "    channel_vpds = mapping_vpd_into_channel(vpds_tile, num_dataset=1)\n",
    "    np.save(data_dir + \"/\" +i +\"/vpds_label_masked.npy\",channel_vpds)    "
   ]
  },
  {
   "cell_type": "code",
   "execution_count": null,
   "id": "7ba5faea",
   "metadata": {},
   "outputs": [],
   "source": []
  }
 ],
 "metadata": {
  "kernelspec": {
   "display_name": "Python 3 (ipykernel)",
   "language": "python",
   "name": "python3"
  },
  "language_info": {
   "codemirror_mode": {
    "name": "ipython",
    "version": 3
   },
   "file_extension": ".py",
   "mimetype": "text/x-python",
   "name": "python",
   "nbconvert_exporter": "python",
   "pygments_lexer": "ipython3",
   "version": "3.7.0"
  }
 },
 "nbformat": 4,
 "nbformat_minor": 5
}